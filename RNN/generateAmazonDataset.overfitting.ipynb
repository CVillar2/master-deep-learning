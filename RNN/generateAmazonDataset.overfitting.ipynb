{
 "cells": [
  {
   "attachments": {},
   "cell_type": "markdown",
   "id": "fa94409e",
   "metadata": {},
   "source": [
    "# Practice 2.2 (Recurrent Neural Networks)\n",
    "\n",
    "Authors:\n",
    "\n",
    "1. Ovidio Manteiga Moar\n",
    "1. Carlos Villar Martínez"
   ]
  },
  {
   "cell_type": "code",
   "execution_count": 1,
   "id": "1b6e3b20",
   "metadata": {},
   "outputs": [],
   "source": [
    "import os\n",
    "import numpy as np\n",
    "import tensorflow as tf\n",
    "from tensorflow import keras\n",
    "from tensorflow.keras import layers\n",
    "#import matplotlib.pyplot as plt"
   ]
  },
  {
   "cell_type": "code",
   "execution_count": 5,
   "id": "d2a09fb1",
   "metadata": {},
   "outputs": [],
   "source": [
    "#reads a file. Each line has the format: label text\n",
    "#Returns a list with the text and a list with the labels\n",
    "def readData(fname):\n",
    "\n",
    "    with open(fname, 'r', encoding=\"utf-8\") as f:\n",
    "        fileData = f.read()\n",
    "  \n",
    "    lines = fileData.split(\"\\n\")\n",
    "    textData = list()\n",
    "    textLabel = list()\n",
    "    lineLength = np.zeros(len(lines))\n",
    "    \n",
    "    for i, aLine in enumerate(lines):     \n",
    "        if not aLine:\n",
    "            break  \n",
    "        label = aLine.split(\" \")[0]\n",
    "        lineLength[i] = len(aLine.split(\" \"))\n",
    "        if(label == \"__label__1\"):\n",
    "            textLabel.append(0)\n",
    "            textData.append(aLine.lstrip(\"__label__1 \"))\n",
    "\n",
    "        elif(label == \"__label__2\"):\n",
    "            textLabel.append(1)\n",
    "            textData.append(aLine.lstrip(\"__label__2 \"))\n",
    "\n",
    "        else:\n",
    "            print(\"\\nError in readData: \", i, aLine)\n",
    "            exit()\n",
    "    \n",
    "    f.close()\n",
    "    return textData, textLabel, int(np.average(lineLength)+2*np.std(lineLength))"
   ]
  },
  {
   "cell_type": "code",
   "execution_count": 3,
   "id": "2731ee70",
   "metadata": {},
   "outputs": [],
   "source": [
    "def transformData(x_train, y_train, x_test, y_test, maxFeatures, seqLength):\n",
    "    #transforms text input to int input based on the vocabulary\n",
    "    #max_tokens = maxFeatures is the size of the vocabulary\n",
    "    #output_sequence_length =  seqLength is the maximum length of the transformed text. Adds 0 is text length is shorter\n",
    "    precLayer = layers.experimental.preprocessing.TextVectorization(max_tokens = maxFeatures, \n",
    "    standardize =  'lower_and_strip_punctuation', split = 'whitespace', output_mode = 'int', \n",
    "    output_sequence_length =  seqLength)\n",
    "    precLayer.adapt(x_train)\n",
    "    #print(precLayer.get_vocabulary())\n",
    "    x_train_int = precLayer(x_train)\n",
    "    y_train = tf.convert_to_tensor(y_train)\n",
    "    #print(x_train_int)\n",
    "    #print(y_train)\n",
    "    x_test_int= precLayer(x_test)\n",
    "    y_test = tf.convert_to_tensor(y_test)\n",
    "    #print(x_test_int)\n",
    "    #print(y_test)\n",
    "\n",
    "    return x_train_int, y_train, x_test_int, y_test"
   ]
  },
  {
   "cell_type": "code",
   "execution_count": 100,
   "id": "db189834",
   "metadata": {},
   "outputs": [],
   "source": [
    "x_train, y_train, seqLength = readData(\"./amazon/train_small.txt\")\n",
    "x_test, y_test, tmp = readData(\"./amazon/test_small.txt\")\n",
    "\n",
    "#Hyperparameters\n",
    "maxFeatures = 1000\n",
    "embedding_dim = 64\n",
    "\n",
    "x_train_int, y_train, x_test_int, y_test = transformData(x_train, y_train, x_test, y_test, maxFeatures, seqLength)\n"
   ]
  },
  {
   "cell_type": "code",
   "execution_count": 115,
   "id": "1fce8e99",
   "metadata": {},
   "outputs": [
    {
     "name": "stdout",
     "output_type": "stream",
     "text": [
      "Model: \"model_18\"\n",
      "_________________________________________________________________\n",
      " Layer (type)                Output Shape              Param #   \n",
      "=================================================================\n",
      " input_29 (InputLayer)       [(None, 166)]             0         \n",
      "                                                                 \n",
      " embedding_27 (Embedding)    (None, 166, 64)           64000     \n",
      "                                                                 \n",
      " gru_15 (GRU)                (None, 166, 128)          74496     \n",
      "                                                                 \n",
      " flatten_1 (Flatten)         (None, 21248)             0         \n",
      "                                                                 \n",
      " dense_21 (Dense)            (None, 64)                1359936   \n",
      "                                                                 \n",
      " dense_22 (Dense)            (None, 1)                 65        \n",
      "                                                                 \n",
      "=================================================================\n",
      "Total params: 1,498,497\n",
      "Trainable params: 1,498,497\n",
      "Non-trainable params: 0\n",
      "_________________________________________________________________\n"
     ]
    }
   ],
   "source": [
    "input_shape = (seqLength)\n",
    "inputs = keras.Input(shape=input_shape)\n",
    "x = layers.Embedding(input_dim=maxFeatures, output_dim=embedding_dim,\n",
    "    input_length=seqLength, mask_zero=True)(inputs)\n",
    "x = layers.GRU(128, activation='tanh', return_sequences=True)(x)\n",
    "x = layers.Flatten()(x)\n",
    "x = layers.Dense(64, activation='relu')(x)\n",
    "outputs = layers.Dense(1, activation='sigmoid')(x)\n",
    "model = keras.Model(inputs, outputs)\n",
    "model.summary()"
   ]
  },
  {
   "cell_type": "code",
   "execution_count": 116,
   "id": "19d32de5",
   "metadata": {},
   "outputs": [
    {
     "name": "stdout",
     "output_type": "stream",
     "text": [
      "Epoch 1/20\n",
      "98/98 [==============================] - 88s 787ms/step - loss: 0.4378 - accuracy: 0.7814 - val_loss: 0.3285 - val_accuracy: 0.8592\n",
      "Epoch 2/20\n",
      "98/98 [==============================] - 80s 815ms/step - loss: 0.2990 - accuracy: 0.8740 - val_loss: 0.3279 - val_accuracy: 0.8583\n",
      "Epoch 3/20\n",
      "98/98 [==============================] - 83s 851ms/step - loss: 0.2750 - accuracy: 0.8843 - val_loss: 0.3357 - val_accuracy: 0.8555\n",
      "Epoch 4/20\n",
      "98/98 [==============================] - 85s 863ms/step - loss: 0.2411 - accuracy: 0.9001 - val_loss: 0.3445 - val_accuracy: 0.8544\n",
      "Epoch 5/20\n",
      "98/98 [==============================] - 83s 853ms/step - loss: 0.2061 - accuracy: 0.9165 - val_loss: 0.3593 - val_accuracy: 0.8577\n",
      "Epoch 6/20\n",
      "98/98 [==============================] - 79s 810ms/step - loss: 0.1689 - accuracy: 0.9338 - val_loss: 0.4121 - val_accuracy: 0.8556\n",
      "Epoch 7/20\n",
      "98/98 [==============================] - 84s 860ms/step - loss: 0.1363 - accuracy: 0.9476 - val_loss: 0.4470 - val_accuracy: 0.8449\n",
      "Epoch 8/20\n",
      "98/98 [==============================] - 83s 846ms/step - loss: 0.1014 - accuracy: 0.9630 - val_loss: 0.5171 - val_accuracy: 0.8402\n",
      "Epoch 9/20\n",
      "98/98 [==============================] - 81s 833ms/step - loss: 0.0761 - accuracy: 0.9722 - val_loss: 0.5806 - val_accuracy: 0.8323\n",
      "Epoch 10/20\n",
      "98/98 [==============================] - 86s 880ms/step - loss: 0.0509 - accuracy: 0.9827 - val_loss: 0.6934 - val_accuracy: 0.8433\n",
      "Epoch 11/20\n",
      "98/98 [==============================] - 83s 846ms/step - loss: 0.0322 - accuracy: 0.9899 - val_loss: 0.8280 - val_accuracy: 0.8344\n",
      "Epoch 12/20\n",
      "98/98 [==============================] - 83s 847ms/step - loss: 0.0266 - accuracy: 0.9926 - val_loss: 0.9026 - val_accuracy: 0.8376\n",
      "Epoch 13/20\n",
      "98/98 [==============================] - 77s 787ms/step - loss: 0.0228 - accuracy: 0.9922 - val_loss: 0.9651 - val_accuracy: 0.8373\n",
      "Epoch 14/20\n",
      "98/98 [==============================] - 98s 999ms/step - loss: 0.0150 - accuracy: 0.9957 - val_loss: 1.0220 - val_accuracy: 0.8340\n",
      "Epoch 15/20\n",
      "98/98 [==============================] - 88s 900ms/step - loss: 0.0253 - accuracy: 0.9916 - val_loss: 1.1391 - val_accuracy: 0.8368\n",
      "Epoch 16/20\n",
      "98/98 [==============================] - 79s 808ms/step - loss: 0.0286 - accuracy: 0.9896 - val_loss: 1.1346 - val_accuracy: 0.8216\n",
      "Epoch 17/20\n",
      "98/98 [==============================] - 79s 811ms/step - loss: 0.0244 - accuracy: 0.9914 - val_loss: 1.1063 - val_accuracy: 0.8326\n",
      "Epoch 18/20\n",
      "98/98 [==============================] - 78s 801ms/step - loss: 0.0152 - accuracy: 0.9954 - val_loss: 1.1934 - val_accuracy: 0.8408\n",
      "Epoch 19/20\n",
      "98/98 [==============================] - 80s 821ms/step - loss: 0.0051 - accuracy: 0.9986 - val_loss: 1.2444 - val_accuracy: 0.8411\n",
      "Epoch 20/20\n",
      "98/98 [==============================] - 74s 760ms/step - loss: 0.0025 - accuracy: 0.9996 - val_loss: 1.3075 - val_accuracy: 0.8373\n"
     ]
    }
   ],
   "source": [
    "callbacks = [ keras.callbacks.ModelCheckpoint(\"jena_gru_amazon.keras\") ]\n",
    "model.compile(optimizer=\"adam\", loss='binary_crossentropy', metrics=[\"accuracy\"])\n",
    "history = model.fit(x_train_int, y_train, epochs=20,\n",
    "                    batch_size=256, validation_data=(x_test_int, y_test), \n",
    "                    callbacks=callbacks)"
   ]
  },
  {
   "cell_type": "code",
   "execution_count": 112,
   "id": "e8ef205c",
   "metadata": {},
   "outputs": [
    {
     "name": "stdout",
     "output_type": "stream",
     "text": [
      "MAX TEST ACC = 87.52%\n"
     ]
    }
   ],
   "source": [
    "max_val_accuracy = max(history.history['val_accuracy'])\n",
    "print(\"MAX TEST ACC = {mva:.2f}%\".format(mva=max_val_accuracy*100))"
   ]
  },
  {
   "cell_type": "code",
   "execution_count": null,
   "id": "1d951e8e",
   "metadata": {},
   "outputs": [],
   "source": []
  }
 ],
 "metadata": {
  "kernelspec": {
   "display_name": "Python 3 (ipykernel)",
   "language": "python",
   "name": "python3"
  },
  "language_info": {
   "codemirror_mode": {
    "name": "ipython",
    "version": 3
   },
   "file_extension": ".py",
   "mimetype": "text/x-python",
   "name": "python",
   "nbconvert_exporter": "python",
   "pygments_lexer": "ipython3",
   "version": "3.8.15"
  }
 },
 "nbformat": 4,
 "nbformat_minor": 5
}
